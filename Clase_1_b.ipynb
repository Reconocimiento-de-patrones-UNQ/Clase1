{
  "nbformat": 4,
  "nbformat_minor": 0,
  "metadata": {
    "colab": {
      "provenance": [],
      "authorship_tag": "ABX9TyMGGzDQTdf1HMtnthnTVODP",
      "include_colab_link": true
    },
    "kernelspec": {
      "name": "python3",
      "display_name": "Python 3"
    },
    "language_info": {
      "name": "python"
    }
  },
  "cells": [
    {
      "cell_type": "markdown",
      "metadata": {
        "id": "view-in-github",
        "colab_type": "text"
      },
      "source": [
        "<a href=\"https://colab.research.google.com/github/Reconocimiento-de-patrones-UNQ/Clase1/blob/main/Clase_1_b.ipynb\" target=\"_parent\"><img src=\"https://colab.research.google.com/assets/colab-badge.svg\" alt=\"Open In Colab\"/></a>"
      ]
    },
    {
      "cell_type": "markdown",
      "source": [
        "Clase: Introducción a NumPy y Pandas para análisis de datos científicos\n",
        "\n",
        "🎯 Objetivos\n",
        "\n",
        "    Comprender qué es NumPy y qué ventajas tiene sobre las listas de Python.\n",
        "\n",
        "    Aprender a crear, indexar y operar con arrays de NumPy.\n",
        "\n",
        "    Comprender qué es Pandas y su utilidad para la manipulación de datos tabulares.\n",
        "\n",
        "    Aprender a crear, explorar y manipular DataFrames y Series."
      ],
      "metadata": {
        "id": "FN3QG81Zzw7z"
      }
    },
    {
      "cell_type": "markdown",
      "source": [
        "¿Qué es NumPy y qué ventajas tiene sobre las listas de Python?\n",
        "\n",
        "NumPy es una biblioteca de Python para trabajar con vectores y matrices (arrays n-dimensionales) de forma eficiente.\n",
        "Ventajas frente a listas de Python:\n",
        "\n",
        "    Más rápido: las operaciones usan código en C.\n",
        "\n",
        "    Menor uso de memoria.\n",
        "\n",
        "    Operaciones vectorizadas: sumas, multiplicaciones, etc. sin bucles.\n",
        "\n",
        "    Funciones matemáticas integradas.\n",
        "\n",
        "    Manejo directo de datos en 2D y más dimensiones.\n",
        "\n",
        "Bibliotecas que usan NumPy internamente:\n",
        "\n",
        "    Pandas (análisis de datos)\n",
        "\n",
        "    SciPy (cálculo científico)\n",
        "\n",
        "    scikit-learn (machine learning)\n",
        "\n",
        "    Matplotlib (gráficos)\n",
        "\n",
        "    TensorFlow / PyTorch (en parte, en el backend)\n",
        "\n"
      ],
      "metadata": {
        "id": "1p7EzHxrCTfb"
      }
    },
    {
      "cell_type": "markdown",
      "source": [
        "##Ejemplos:"
      ],
      "metadata": {
        "id": "cxgRcpyE0SQ4"
      }
    },
    {
      "cell_type": "code",
      "execution_count": 1,
      "metadata": {
        "colab": {
          "base_uri": "https://localhost:8080/"
        },
        "id": "N8KWXl8IzszK",
        "outputId": "22f41457-5171-451b-b388-741343364577"
      },
      "outputs": [
        {
          "output_type": "execute_result",
          "data": {
            "text/plain": [
              "array([1, 2, 3])"
            ]
          },
          "metadata": {},
          "execution_count": 1
        }
      ],
      "source": [
        "import numpy as np\n",
        "np.array([1, 2, 3])\n",
        "\n"
      ]
    },
    {
      "cell_type": "code",
      "source": [
        "np.zeros((3, 3))\n"
      ],
      "metadata": {
        "colab": {
          "base_uri": "https://localhost:8080/"
        },
        "id": "4e5y16pY0wlm",
        "outputId": "c9fa3ef6-8fa6-4e79-efa6-59b5734b211b"
      },
      "execution_count": null,
      "outputs": [
        {
          "output_type": "execute_result",
          "data": {
            "text/plain": [
              "array([[0., 0., 0.],\n",
              "       [0., 0., 0.],\n",
              "       [0., 0., 0.]])"
            ]
          },
          "metadata": {},
          "execution_count": 2
        }
      ]
    },
    {
      "cell_type": "code",
      "source": [
        "np.arange(0, 10, 2)"
      ],
      "metadata": {
        "colab": {
          "base_uri": "https://localhost:8080/"
        },
        "id": "chaEK8c-00bl",
        "outputId": "0ffc5460-12f3-4790-b906-d953f4b08ba9"
      },
      "execution_count": null,
      "outputs": [
        {
          "output_type": "execute_result",
          "data": {
            "text/plain": [
              "array([0, 2, 4, 6, 8])"
            ]
          },
          "metadata": {},
          "execution_count": 3
        }
      ]
    },
    {
      "cell_type": "code",
      "source": [
        "np.linspace(1, 10,10 )"
      ],
      "metadata": {
        "colab": {
          "base_uri": "https://localhost:8080/"
        },
        "id": "q7AqkfZyCvwU",
        "outputId": "ace7a132-2ddc-4cc5-f51b-76681de0e493"
      },
      "execution_count": null,
      "outputs": [
        {
          "output_type": "execute_result",
          "data": {
            "text/plain": [
              "array([ 1.,  2.,  3.,  4.,  5.,  6.,  7.,  8.,  9., 10.])"
            ]
          },
          "metadata": {},
          "execution_count": 8
        }
      ]
    },
    {
      "cell_type": "markdown",
      "source": [
        "np.arange(start, stop, step)    \n",
        "    Genera valores con paso fijo.\n",
        "\n",
        "    El parámetro step define cuánto se suma en cada paso.\n",
        "\n",
        "    El valor final no se incluye si no cae justo en el rango.\n",
        "\n",
        "\n",
        "np.linspace(start, stop, num)\n",
        "\n",
        "    Genera una cantidad fija de num valores, espaciados uniformemente.\n",
        "\n",
        "    El valor final sí se incluye."
      ],
      "metadata": {
        "id": "0vO2ABlSDgT0"
      }
    },
    {
      "cell_type": "markdown",
      "source": [
        "#Indexar arrays"
      ],
      "metadata": {
        "id": "tBFZTrNlEQht"
      }
    },
    {
      "cell_type": "code",
      "source": [
        "a = np.array([10, 20, 30, 40])\n",
        "b = a[0]         # 10\n",
        "c = a[1:3]       # [20 30]\n",
        "print (b,c)\n",
        "\n"
      ],
      "metadata": {
        "colab": {
          "base_uri": "https://localhost:8080/"
        },
        "id": "pkeoyH9zEL1w",
        "outputId": "c4942e7f-b96b-491d-8eaf-aefd4b5f4fbb"
      },
      "execution_count": null,
      "outputs": [
        {
          "output_type": "stream",
          "name": "stdout",
          "text": [
            "10 [20 30 40]\n"
          ]
        },
        {
          "output_type": "execute_result",
          "data": {
            "text/plain": [
              "array([1, 3, 5])"
            ]
          },
          "metadata": {},
          "execution_count": 11
        }
      ]
    },
    {
      "cell_type": "code",
      "source": [
        "a = np.array([[1, 2], [3, 4], [5, 6]])\n",
        "b = a[1, 1]      # 4\n",
        "c = a[:, 0]      # [1 3 5] (primera columna)\n",
        "print(b,c)\n"
      ],
      "metadata": {
        "colab": {
          "base_uri": "https://localhost:8080/"
        },
        "id": "RSmRGNSqFKyW",
        "outputId": "b2e1adf2-a745-4625-a70c-e28a04dcff6a"
      },
      "execution_count": null,
      "outputs": [
        {
          "output_type": "stream",
          "name": "stdout",
          "text": [
            "4 [1 3 5]\n"
          ]
        }
      ]
    },
    {
      "cell_type": "markdown",
      "source": [
        "![Gráfico](/content/numpy_2D_slicing_diagram.jpg)"
      ],
      "metadata": {
        "id": "UizASV6_JOQb"
      }
    }
  ]
}